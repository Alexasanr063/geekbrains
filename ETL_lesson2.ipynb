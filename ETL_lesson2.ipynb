{
  "nbformat": 4,
  "nbformat_minor": 0,
  "metadata": {
    "colab": {
      "provenance": [],
      "authorship_tag": "ABX9TyNmY4OchoddHfWGu4iabuv9",
      "include_colab_link": true
    },
    "kernelspec": {
      "name": "python3",
      "display_name": "Python 3"
    },
    "language_info": {
      "name": "python"
    }
  },
  "cells": [
    {
      "cell_type": "markdown",
      "metadata": {
        "id": "view-in-github",
        "colab_type": "text"
      },
      "source": [
        "<a href=\"https://colab.research.google.com/github/Alexasanr063/geekbrains/blob/main/ETL_lesson2.ipynb\" target=\"_parent\"><img src=\"https://colab.research.google.com/assets/colab-badge.svg\" alt=\"Open In Colab\"/></a>"
      ]
    },
    {
      "cell_type": "code",
      "source": [
        "import pandas as pd\n",
        "\n",
        "# Открытие CSV файла\n",
        "file_path = '/content/fifa_s2.csv'\n",
        "df = pd.read_csv(file_path)\n",
        "\n",
        "# Проверка данных\n",
        "print(df.head())\n"
      ],
      "metadata": {
        "colab": {
          "base_uri": "https://localhost:8080/"
        },
        "id": "dLPdSsEg1Rad",
        "outputId": "52ef0d84-7131-4480-ae9c-57bf57397999"
      },
      "execution_count": 2,
      "outputs": [
        {
          "output_type": "stream",
          "name": "stdout",
          "text": [
            "      ID       Name  Age  Nationality  Overall  Potential  \\\n",
            "0   1179  G. Buffon   40        Italy       88         88   \n",
            "1   5479   Casillas   37        Spain       82         82   \n",
            "2   8205      Braga   35     Portugal       70         70   \n",
            "3   9014  A. Robben   34  Netherlands       84         84   \n",
            "4  19521  J. Ibehre   35      England       61         61   \n",
            "\n",
            "                  Club    Value  Wage Preferred Foot  \\\n",
            "0  Paris Saint-Germain   4000.0    77          Right   \n",
            "1             FC Porto   1500.0    10           Left   \n",
            "2              CD Aves    750.0     5          Right   \n",
            "3    FC Bayern München  15500.0   110           Left   \n",
            "4     Cambridge United    120.0     2          Right   \n",
            "\n",
            "   International Reputation  Skill Moves Position  Joined  \\\n",
            "0                       4.0          1.0       GK    2018   \n",
            "1                       4.0          1.0      NaN    2015   \n",
            "2                       1.0          3.0      LCM    2017   \n",
            "3                       4.0          4.0       RM    2009   \n",
            "4                       1.0          2.0       ST    2017   \n",
            "\n",
            "  Contract Valid Until    Height  Weight  Release Clause  \n",
            "0           01/01/2019  6.333333   203.0          7400.0  \n",
            "1           01/01/2019  6.083333   185.0          3000.0  \n",
            "2           01/01/2019  5.916667   165.0          1600.0  \n",
            "3           01/01/2019  5.916667   176.0         25600.0  \n",
            "4           01/01/2019  6.333333   203.0           210.0  \n"
          ]
        }
      ]
    },
    {
      "cell_type": "markdown",
      "source": [
        "Количество пропущенных значений в каждом столбце"
      ],
      "metadata": {
        "id": "2JAJZcwp19ni"
      }
    },
    {
      "cell_type": "code",
      "source": [
        "missing_data = df.isnull().sum()\n",
        "print(\"Количество пропущенных значений в каждом столбце:\")\n",
        "print(missing_data)"
      ],
      "metadata": {
        "colab": {
          "base_uri": "https://localhost:8080/"
        },
        "id": "xLwhI5D52Ayy",
        "outputId": "fa713df8-0707-4212-976e-02bbd401fc00"
      },
      "execution_count": 3,
      "outputs": [
        {
          "output_type": "stream",
          "name": "stdout",
          "text": [
            "Количество пропущенных значений в каждом столбце:\n",
            "ID                            0\n",
            "Name                          0\n",
            "Age                           0\n",
            "Nationality                   7\n",
            "Overall                       0\n",
            "Potential                     0\n",
            "Club                        241\n",
            "Value                       257\n",
            "Wage                          0\n",
            "Preferred Foot                0\n",
            "International Reputation     10\n",
            "Skill Moves                   6\n",
            "Position                     21\n",
            "Joined                        0\n",
            "Contract Valid Until        273\n",
            "Height                        0\n",
            "Weight                        0\n",
            "Release Clause                3\n",
            "dtype: int64\n"
          ]
        }
      ]
    },
    {
      "cell_type": "markdown",
      "source": [
        "Удаление ненужных столбцов и строк"
      ],
      "metadata": {
        "id": "bnfF1UE32WdM"
      }
    },
    {
      "cell_type": "code",
      "source": [
        "# Удаляем столбцы с пропущенными значениями\n",
        "df_cleaned = df.dropna(axis=1)\n",
        "\n",
        "# Удаляем строки с пропущенными значениями\n",
        "df_cleaned = df_cleaned.dropna()\n",
        "\n",
        "# Результат\n",
        "print(\"Очищенный DataFrame:\")\n",
        "print(df_cleaned)"
      ],
      "metadata": {
        "colab": {
          "base_uri": "https://localhost:8080/"
        },
        "id": "rK4S989i2YiU",
        "outputId": "58ecf751-bd57-4639-b7a5-8c583ebe90f0"
      },
      "execution_count": 4,
      "outputs": [
        {
          "output_type": "stream",
          "name": "stdout",
          "text": [
            "Очищенный DataFrame:\n",
            "          ID           Name  Age  Overall  Potential  Wage Preferred Foot  \\\n",
            "0       1179      G. Buffon   40       88         88    77          Right   \n",
            "1       5479       Casillas   37       82         82    10           Left   \n",
            "2       8205          Braga   35       70         70     5          Right   \n",
            "3       9014      A. Robben   34       84         84   110           Left   \n",
            "4      19521      J. Ibehre   35       61         61     2          Right   \n",
            "...      ...            ...  ...      ...        ...   ...            ...   \n",
            "2394  246465       Guerrero   16       63         76     1           Left   \n",
            "2395  246594    H. Massengo   16       62         75     2          Right   \n",
            "2396  246599  Guillem Jaime   19       64         80    13          Right   \n",
            "2397  246606    Fran García   18       64         79     9           Left   \n",
            "2398  246608        Fidalgo   21       65         75    20          Right   \n",
            "\n",
            "      Joined    Height  Weight  \n",
            "0       2018  6.333333   203.0  \n",
            "1       2015  6.083333   185.0  \n",
            "2       2017  5.916667   165.0  \n",
            "3       2009  5.916667   176.0  \n",
            "4       2017  6.333333   203.0  \n",
            "...      ...       ...     ...  \n",
            "2394    2018  5.916667   165.0  \n",
            "2395    2018  5.833333   146.0  \n",
            "2396    2018  5.833333   154.0  \n",
            "2397    2018  5.583333   139.0  \n",
            "2398    2016  5.750000   150.0  \n",
            "\n",
            "[2399 rows x 10 columns]\n"
          ]
        }
      ]
    },
    {
      "cell_type": "code",
      "source": [
        "df['Club'] = df['Club'].str.lower()  # Приводим названия команд к нижнему регистру\n",
        "\n",
        "# Поиск полных дубликатов\n",
        "duplicates = df[df.duplicated()]\n",
        "\n",
        "print(\"Найденные дубликаты:\")\n",
        "print(duplicates)\n",
        "\n",
        "# Удаление полных дубликатов\n",
        "df_cleaned = df.drop_duplicates()\n",
        "\n",
        "# Результат\n",
        "print(\"DataFrame после удаления дубликатов:\")\n",
        "print(df_cleaned)"
      ],
      "metadata": {
        "colab": {
          "base_uri": "https://localhost:8080/"
        },
        "id": "jLb-2T833Vhy",
        "outputId": "70e055ed-b943-4ce0-d81d-34447b8f5673"
      },
      "execution_count": 6,
      "outputs": [
        {
          "output_type": "stream",
          "name": "stdout",
          "text": [
            "Найденные дубликаты:\n",
            "         ID        Name  Age Nationality  Overall  Potential          Club  \\\n",
            "154  168651  I. Rakitić   30     Croatia       87         87  fc barcelona   \n",
            "304  181872    A. Vidal   31       Chile       85         85  fc barcelona   \n",
            "\n",
            "       Value  Wage Preferred Foot  International Reputation  Skill Moves  \\\n",
            "154  46500.0   260          Right                       4.0          3.0   \n",
            "304  26000.0   205          Right                       4.0          3.0   \n",
            "\n",
            "    Position  Joined Contract Valid Until    Height  Weight  Release Clause  \n",
            "154      RCM    2014           01/01/2021  6.000000   172.0         95300.0  \n",
            "304      CAM    2018           01/01/2021  5.916667   165.0         53300.0  \n",
            "DataFrame после удаления дубликатов:\n",
            "          ID           Name  Age  Nationality  Overall  Potential  \\\n",
            "0       1179      G. Buffon   40        Italy       88         88   \n",
            "1       5479       Casillas   37        Spain       82         82   \n",
            "2       8205          Braga   35     Portugal       70         70   \n",
            "3       9014      A. Robben   34  Netherlands       84         84   \n",
            "4      19521      J. Ibehre   35      England       61         61   \n",
            "...      ...            ...  ...          ...      ...        ...   \n",
            "2394  246465       Guerrero   16        Spain       63         76   \n",
            "2395  246594    H. Massengo   16       France       62         75   \n",
            "2396  246599  Guillem Jaime   19        Spain       64         80   \n",
            "2397  246606    Fran García   18        Spain       64         79   \n",
            "2398  246608        Fidalgo   21        Spain       65         75   \n",
            "\n",
            "                     Club    Value  Wage Preferred Foot  \\\n",
            "0     paris saint-germain   4000.0    77          Right   \n",
            "1                fc porto   1500.0    10           Left   \n",
            "2                 cd aves    750.0     5          Right   \n",
            "3       fc bayern münchen  15500.0   110           Left   \n",
            "4        cambridge united    120.0     2          Right   \n",
            "...                   ...      ...   ...            ...   \n",
            "2394  cf rayo majadahonda    625.0     1           Left   \n",
            "2395            as monaco    450.0     2          Right   \n",
            "2396         fc barcelona    975.0    13          Right   \n",
            "2397          real madrid    825.0     9           Left   \n",
            "2398          real madrid    875.0    20          Right   \n",
            "\n",
            "      International Reputation  Skill Moves Position  Joined  \\\n",
            "0                          4.0          1.0       GK    2018   \n",
            "1                          4.0          1.0      NaN    2015   \n",
            "2                          1.0          3.0      LCM    2017   \n",
            "3                          4.0          4.0       RM    2009   \n",
            "4                          1.0          2.0       ST    2017   \n",
            "...                        ...          ...      ...     ...   \n",
            "2394                       1.0          3.0       CM    2018   \n",
            "2395                       1.0          2.0      CDM    2018   \n",
            "2396                       1.0          3.0       RW    2018   \n",
            "2397                       1.0          2.0       LB    2018   \n",
            "2398                       1.0          3.0       CM    2016   \n",
            "\n",
            "     Contract Valid Until    Height  Weight  Release Clause  \n",
            "0              01/01/2019  6.333333   203.0          7400.0  \n",
            "1              01/01/2019  6.083333   185.0          3000.0  \n",
            "2              01/01/2019  5.916667   165.0          1600.0  \n",
            "3              01/01/2019  5.916667   176.0         25600.0  \n",
            "4              01/01/2019  6.333333   203.0           210.0  \n",
            "...                   ...       ...     ...             ...  \n",
            "2394           01/01/2019  5.916667   165.0          1400.0  \n",
            "2395           01/01/2021  5.833333   146.0          1100.0  \n",
            "2396           01/01/2020  5.833333   154.0          2600.0  \n",
            "2397           01/01/2019  5.583333   139.0          2200.0  \n",
            "2398           01/01/2019  5.750000   150.0          2000.0  \n",
            "\n",
            "[2397 rows x 18 columns]\n"
          ]
        }
      ]
    },
    {
      "cell_type": "markdown",
      "source": [
        "Функция для добавления колонки с возрастными группами\n"
      ],
      "metadata": {
        "id": "l-6Niwxk3-rO"
      }
    },
    {
      "cell_type": "code",
      "source": [
        "def add_age_group(df):\n",
        "    # Добавляем колонку с возрастными группами\n",
        "    df['Age Group'] = pd.cut(df['Age'],\n",
        "                             bins=[0, 20, 30, 36, float('inf')],\n",
        "                             labels=['До 20', '20-30', '30-36', 'Старше 36'],\n",
        "                             right=False)\n",
        "    return df\n",
        "\n",
        "def count_players_in_age_groups(df):\n",
        "    # Подсчитываем количество футболистов в каждой возрастной категории\n",
        "    age_group_counts = df['Age Group'].value_counts().sort_index()\n",
        "    return age_group_counts"
      ],
      "metadata": {
        "id": "0iVgL_2A4ATX"
      },
      "execution_count": 7,
      "outputs": []
    },
    {
      "cell_type": "code",
      "source": [
        "df = add_age_group(df)\n",
        "\n",
        "# Подсчет количества футболистов в каждой возрастной категории\n",
        "age_group_counts = count_players_in_age_groups(df)\n",
        "\n",
        "# Результат\n",
        "print(\"Количество футболистов в каждой возрастной категории:\")\n",
        "print(age_group_counts)\n"
      ],
      "metadata": {
        "colab": {
          "base_uri": "https://localhost:8080/"
        },
        "id": "oHNLjTRn4Ifv",
        "outputId": "924e420a-e625-478d-b3ef-10c740c702bf"
      },
      "execution_count": 8,
      "outputs": [
        {
          "output_type": "stream",
          "name": "stdout",
          "text": [
            "Количество футболистов в каждой возрастной категории:\n",
            "Age Group\n",
            "До 20         270\n",
            "20-30        1646\n",
            "30-36         460\n",
            "Старше 36      23\n",
            "Name: count, dtype: int64\n"
          ]
        }
      ]
    }
  ]
}