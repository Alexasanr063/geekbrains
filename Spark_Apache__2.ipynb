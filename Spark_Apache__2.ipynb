{
  "cells": [
    {
      "cell_type": "markdown",
      "metadata": {
        "id": "view-in-github",
        "colab_type": "text"
      },
      "source": [
        "<a href=\"https://colab.research.google.com/github/Alexasanr063/geekbrains/blob/main/Spark_Apache__2.ipynb\" target=\"_parent\"><img src=\"https://colab.research.google.com/assets/colab-badge.svg\" alt=\"Open In Colab\"/></a>"
      ]
    },
    {
      "cell_type": "code",
      "execution_count": null,
      "metadata": {
        "colab": {
          "base_uri": "https://localhost:8080/"
        },
        "id": "i3Uf5gn6ILG_",
        "outputId": "6faa8cf3-a4a5-4ea6-88b7-776229b586aa"
      },
      "outputs": [
        {
          "output_type": "stream",
          "name": "stdout",
          "text": [
            "+------------+\n",
            "|EmployeeName|\n",
            "+------------+\n",
            "|         Joe|\n",
            "+------------+\n",
            "\n"
          ]
        }
      ],
      "source": [
        "from pyspark.sql import SparkSession\n",
        "from pyspark.sql import functions as F\n",
        "from pyspark.sql.types import StructType, StructField, IntegerType, StringType\n",
        "\n",
        "# Создаем SparkSession\n",
        "spark = SparkSession.builder.appName('EmployeeSalary').getOrCreate()\n",
        "\n",
        "# Определяем схему\n",
        "schema = StructType([\n",
        "    StructField(\"id\", IntegerType(), True),\n",
        "    StructField(\"Name\", StringType(), True),\n",
        "    StructField(\"Salary\", IntegerType(), True),\n",
        "    StructField(\"ManagerId\", IntegerType(), True)\n",
        "])\n",
        "\n",
        "# Данные для создания DataFrame\n",
        "data = [\n",
        "    (1, 'Joe', 70, 3),\n",
        "    (2, 'Henry', 80, 4),\n",
        "    (3, 'Sam', 60, None),\n",
        "    (4, 'Max', 90, None)\n",
        "]\n",
        "\n",
        "# Создаем DataFrame с указанием схемы\n",
        "df = spark.createDataFrame(data, schema)\n",
        "\n",
        "# Соединяем DataFrame с самим собой для получения информации о зарплате менеджера\n",
        "df_with_managers = df.alias(\"employees\") \\\n",
        "    .join(df.alias(\"managers\"), F.col(\"employees.ManagerId\") == F.col(\"managers.id\"), \"left\") \\\n",
        "    .select(\n",
        "        F.col(\"employees.Name\").alias(\"EmployeeName\"),\n",
        "        F.col(\"employees.Salary\").alias(\"EmployeeSalary\"),\n",
        "        F.col(\"managers.Salary\").alias(\"ManagerSalary\")\n",
        "    )\n",
        "\n",
        "# Фильтруем сотрудников, которые зарабатывают больше своих менеджеров\n",
        "result = df_with_managers.filter(F.col(\"EmployeeSalary\") > F.col(\"ManagerSalary\")) \\\n",
        "    .select(\"EmployeeName\")\n",
        "\n",
        "# Выводим результат\n",
        "result.show()"
      ]
    }
  ],
  "metadata": {
    "colab": {
      "provenance": [],
      "name": "Spark Apache _2.ipynb",
      "authorship_tag": "ABX9TyM17Bo7Zm7Zt0XkeZ/jxEBW",
      "include_colab_link": true
    },
    "kernelspec": {
      "display_name": "Python 3",
      "name": "python3"
    },
    "language_info": {
      "name": "python"
    }
  },
  "nbformat": 4,
  "nbformat_minor": 0
}