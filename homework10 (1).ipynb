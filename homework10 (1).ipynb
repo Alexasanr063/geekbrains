{
  "metadata": {
    "kernelspec": {
      "name": "python",
      "display_name": "Python (Pyodide)",
      "language": "python"
    },
    "language_info": {
      "codemirror_mode": {
        "name": "python",
        "version": 3
      },
      "file_extension": ".py",
      "mimetype": "text/x-python",
      "name": "python",
      "nbconvert_exporter": "python",
      "pygments_lexer": "ipython3",
      "version": "3.8"
    }
  },
  "nbformat_minor": 4,
  "nbformat": 4,
  "cells": [
    {
      "cell_type": "code",
      "source": "Задача 1 Даны значения величины заработной платы заемщиков банка (zp) и значения их\nповеденческого кредитного скоринга (ks):\nzp = [35, 45, 190, 200, 40, 70, 54, 150, 120, 110],\nks = [401, 574, 874, 919, 459, 739, 653, 902, 746, 832].\nНайдите ковариацию этих двух величин с помощью элементарных действий, а затем с\nпомощью функции cov из numpy\nПолученные значения должны быть равны.\nНайдите коэффициент корреляции Пирсона с помощью ковариации и\nсреднеквадратичных отклонений двух признаков,\nа затем с использованием функций из библиотек numpy и pandas.",
      "metadata": {
        "trusted": true
      },
      "outputs": [],
      "execution_count": null
    },
    {
      "cell_type": "code",
      "source": "from statistics import mean\nzp = [35, 45, 190, 200, 40, 70, 54, 150, 120, 110]\nks = [401, 574, 874, 919, 459, 739, 653, 902, 746, 832]\nx_mean = mean(zp)\ny_mean = mean(ks)\n\n",
      "metadata": {
        "trusted": true
      },
      "outputs": [],
      "execution_count": 9
    },
    {
      "cell_type": "code",
      "source": "cov(X,Y) = ((35 - 102.5)(401 - 709.5) + (45 - 102.5)(574 - 709.5) + (190 - 102.5)(874 - 709.5) + (200 - 102.5)(919 - 709.5) + (40 - 102.5)(459 - 709.5) + (70 - 102.5)(739 - 709.5) + (54 - 102.5)(653 - 709.5) + (150 - 102.5)(902 - 709.5) + (120 - 102.5)(746 - 709.5) + (110 - 102.5)(832 - 709.5)) / (10 - 1)\n\ncov(X,Y) = (-67.5 * -308.5 + -57.5 * -135.5 + 87.5 * 164.5 + 97.5 * 209.5 + -62.5 * -250.5 + -32.5 * 29.5 + -48.5 * -56.5 + 47.5 * 192.5 + 17.5 * 36.5 + 7.5 * 122.5) / 9\n\ncov(X,Y) = 9157.5 / 9 = 1017.5",
      "metadata": {
        "trusted": true
      },
      "outputs": [],
      "execution_count": null
    },
    {
      "cell_type": "code",
      "source": "import numpy\ncovariathia = numpy.cov(zp,ks)\ncovariathia",
      "metadata": {
        "trusted": true
      },
      "outputs": [
        {
          "execution_count": 11,
          "output_type": "execute_result",
          "data": {
            "text/plain": "array([[ 3882.93333333, 10175.37777778],\n       [10175.37777778, 33854.32222222]])"
          },
          "metadata": {}
        }
      ],
      "execution_count": 11
    },
    {
      "cell_type": "code",
      "source": "covariathia = 10175.37777778\n#R = covariathia /   sigma_x * sigma_y\nD = numpy.var(zp)**0.5\nD1 = numpy.var(ks)**0.5\nD,D1",
      "metadata": {
        "trusted": true
      },
      "outputs": [
        {
          "execution_count": 31,
          "output_type": "execute_result",
          "data": {
            "text/plain": "(59.115480206118605, 174.55340157098058)"
          },
          "metadata": {}
        }
      ],
      "execution_count": 31
    },
    {
      "cell_type": "code",
      "source": "R = covariathia / (D * D1)\nR",
      "metadata": {
        "trusted": true
      },
      "outputs": [
        {
          "execution_count": 28,
          "output_type": "execute_result",
          "data": {
            "text/plain": "0.9861001023045667"
          },
          "metadata": {}
        }
      ],
      "execution_count": 28
    },
    {
      "cell_type": "code",
      "source": "R1 = numpy.corrcoef(zp,ks)\nR1",
      "metadata": {
        "trusted": true
      },
      "outputs": [
        {
          "execution_count": 17,
          "output_type": "execute_result",
          "data": {
            "text/plain": "array([[1.        , 0.88749009],\n       [0.88749009, 1.        ]])"
          },
          "metadata": {}
        }
      ],
      "execution_count": 17
    },
    {
      "cell_type": "code",
      "source": "Задача 2 Измерены значения IQ выборки студентов,\nобучающихся в местных технических вузах:\n131, 125, 115, 122, 131, 115, 107, 99, 125, 111.\nИзвестно, что в генеральной совокупности IQ распределен нормально.\nНайдите доверительный интервал для математического ожидания с надежностью 0.95.",
      "metadata": {
        "trusted": true
      },
      "outputs": [],
      "execution_count": null
    },
    {
      "cell_type": "code",
      "source": "import statistics\nfrom scipy import stats\narray = [131, 125, 115, 122, 131, 115, 107, 99, 125, 111]\nalpha = 0.05\ndlina = len(array)\nx_srednia = statistics.mean(array)\nD = numpy.var(array,ddof = 1)\nt_kriterii = stats.t.ppf(1-alpha/2,dlina-1)\nx_srednia - t_kriterii * (D**0.5) / (dlina ** 0.5),x_srednia + t_kriterii * (D**0.5) / (dlina ** 0.5)",
      "metadata": {
        "trusted": true
      },
      "outputs": [
        {
          "execution_count": 37,
          "output_type": "execute_result",
          "data": {
            "text/plain": "(110.55608365158724, 125.64391634841274)"
          },
          "metadata": {}
        }
      ],
      "execution_count": 37
    },
    {
      "cell_type": "code",
      "source": "Задача 3 Известно, что рост футболистов в сборной распределен нормально\nс дисперсией генеральной совокупности, равной 25 кв.см. Объем выборки равен 27,\nсреднее выборочное составляет 174.2. Найдите доверительный интервал для\nматематического\nожидания с надежностью 0.95.",
      "metadata": {
        "trusted": true
      },
      "outputs": [],
      "execution_count": null
    },
    {
      "cell_type": "code",
      "source": "D = 25\nn = 27\nx_srednia = 174.2\nalpa = 0.05\nky = D ** 0.5\n\nz_krit = stats.norm.ppf(1-alpha)\nx_srednia - z_krit * ky/n**0.5 , x_srednia + z_krit * ky/n**0.5 \n",
      "metadata": {
        "trusted": true
      },
      "outputs": [
        {
          "execution_count": 43,
          "output_type": "execute_result",
          "data": {
            "text/plain": "(172.61723885950337, 175.7827611404966)"
          },
          "metadata": {}
        }
      ],
      "execution_count": 43
    },
    {
      "cell_type": "code",
      "source": "",
      "metadata": {
        "trusted": true
      },
      "outputs": [],
      "execution_count": null
    }
  ]
}