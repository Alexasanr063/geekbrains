{
  "metadata": {
    "kernelspec": {
      "name": "python",
      "display_name": "Python (Pyodide)",
      "language": "python"
    },
    "language_info": {
      "codemirror_mode": {
        "name": "python",
        "version": 3
      },
      "file_extension": ".py",
      "mimetype": "text/x-python",
      "name": "python",
      "nbconvert_exporter": "python",
      "pygments_lexer": "ipython3",
      "version": "3.8"
    }
  },
  "nbformat_minor": 4,
  "nbformat": 4,
  "cells": [
    {
      "cell_type": "code",
      "source": "Даны значения величины заработной платы заемщиков банка (zp) и значения их поведенческого кредитного скоринга \n(ks): zp = [35, 45, 190, 200, 40, 70, 54, 150, 120, 110], ks = [401, 574, 874, 919, 459, 739, 653, 902, 746, 832]. \nИспользуя математические операции, посчитать коэффициенты линейной регрессии, приняв за X заработную плату (то есть, zp - признак), \nа за y - значения скорингового балла (то есть, ks - целевая переменная). Произвести расчет как с использованием intercept, так и без.",
      "metadata": {
        "trusted": true
      },
      "outputs": [],
      "execution_count": null
    },
    {
      "cell_type": "code",
      "source": "import numpy as np\nzp = np.array([35, 45, 190, 200, 40, 70, 54, 150, 120, 110])\nks = np.array([401, 574, 874, 919, 459, 739, 653, 902, 746, 832])",
      "metadata": {
        "trusted": true
      },
      "outputs": [],
      "execution_count": 1
    },
    {
      "cell_type": "code",
      "source": "from sklearn.linear_model import LinearRegression\nimport matplotlib.pyplot as plt\n\nmodel = LinearRegression()\nx = zp.reshape(-1,1)\ny = ks\nmodel.fit(x, y)\nr_sq = model.score(x,y)\nconst = model.intercept_\nbeta = model.coef_[0]\nconst,beta",
      "metadata": {
        "trusted": true
      },
      "outputs": [
        {
          "execution_count": 2,
          "output_type": "execute_result",
          "data": {
            "text/plain": "(444.1773573243596, 2.620538882402765)"
          },
          "metadata": {}
        }
      ],
      "execution_count": 2
    },
    {
      "cell_type": "code",
      "source": "model = LinearRegression(fit_intercept = False)\nx = zp.reshape(-1,1)\ny = ks\nmodel.fit(x, y)\nr_sq = model.score(x,y)\nconst = model.intercept_\nbeta = model.coef_[0]\nconst,beta",
      "metadata": {
        "trusted": true
      },
      "outputs": [
        {
          "execution_count": 12,
          "output_type": "execute_result",
          "data": {
            "text/plain": "(0.0, 5.889820420132689)"
          },
          "metadata": {}
        }
      ],
      "execution_count": 12
    },
    {
      "cell_type": "code",
      "source": "Посчитать коэффициент линейной регрессии при заработной плате (zp),\nиспользуя градиентный спуск (без intercept).\n(можно использовать библиотеки питона, вместо градиентого спуска)",
      "metadata": {
        "trusted": true
      },
      "outputs": [],
      "execution_count": null
    },
    {
      "cell_type": "code",
      "source": "zp = np.array([35, 45, 190, 200, 40, 70, 54, 150, 120, 110])\nks = np.array([401, 574, 874, 919, 459, 739, 653, 902, 746, 832])",
      "metadata": {
        "trusted": true
      },
      "outputs": [],
      "execution_count": null
    },
    {
      "cell_type": "code",
      "source": "def mse_(B1,y = ks, x = zp, n = len(zp)):\n    return np.sum((B1*x - y)**2)/n\nalpha = 1e-6\nB1 = 0.1\nn = len(zp)\nfor i in range(20):\n    B1 -= alpha * (2/n) * np.sum((B1*x - y)*x)\n    print ('B1 = {}'.format(B1))\n",
      "metadata": {
        "trusted": true
      },
      "outputs": [
        {
          "name": "stdout",
          "text": "B1 = 1.512124\nB1 = 2.5351626500319995\nB1 = 3.2763214147433826\nB1 = 3.8132672226963087\nB1 = 4.202267278292349\nB1 = 4.484085370569901\nB1 = 4.688253560246035\nB1 = 4.836166880284324\nB1 = 4.943325347425824\nB1 = 5.020958227798892\nB1 = 5.0772007653770075\nB1 = 5.11794668409115\nB1 = 5.147465798330147\nB1 = 5.168851451984645\nB1 = 5.184344673716412\nB1 = 5.195569017077982\nB1 = 5.203700694664451\nB1 = 5.209591834862166\nB1 = 5.213859777418923\nB1 = 5.216951765227132\n",
          "output_type": "stream"
        }
      ],
      "execution_count": 13
    },
    {
      "cell_type": "code",
      "source": "for i in range(2001):\n    B1 -= alpha * (2/n) * np.sum((B1*x - y)*x)\n    if i % 500 == 0:        \n        print ('Iteration = {i},  B1 = {B1},  mse={mse}'.format(i = i,B1=B1,mse = mse_(B1)))",
      "metadata": {
        "trusted": true
      },
      "outputs": [
        {
          "name": "stdout",
          "text": "Iteration = 0,  B1 = 5.225081660206436,  mse=62604.42962092247\nIteration = 500,  B1 = 5.225081660206436,  mse=62604.42962092247\nIteration = 1000,  B1 = 5.225081660206436,  mse=62604.42962092247\nIteration = 1500,  B1 = 5.225081660206436,  mse=62604.42962092247\nIteration = 2000,  B1 = 5.225081660206436,  mse=62604.42962092247\n",
          "output_type": "stream"
        }
      ],
      "execution_count": 11
    },
    {
      "cell_type": "code",
      "source": "проверка\nmse_(5.225081660206436)",
      "metadata": {
        "trusted": true
      },
      "outputs": [
        {
          "execution_count": 12,
          "output_type": "execute_result",
          "data": {
            "text/plain": "62604.42962092247"
          },
          "metadata": {}
        }
      ],
      "execution_count": 12
    },
    {
      "cell_type": "code",
      "source": "значеие совпали ответ ",
      "metadata": {
        "trusted": true
      },
      "outputs": [],
      "execution_count": null
    }
  ]
}