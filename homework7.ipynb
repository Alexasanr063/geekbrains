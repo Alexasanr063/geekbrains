{
  "metadata": {
    "kernelspec": {
      "name": "python",
      "display_name": "Python (Pyodide)",
      "language": "python"
    },
    "language_info": {
      "codemirror_mode": {
        "name": "python",
        "version": 3
      },
      "file_extension": ".py",
      "mimetype": "text/x-python",
      "name": "python",
      "nbconvert_exporter": "python",
      "pygments_lexer": "ipython3",
      "version": "3.8"
    }
  },
  "nbformat_minor": 4,
  "nbformat": 4,
  "cells": [
    {
      "cell_type": "code",
      "source": "from scipy import stats",
      "metadata": {
        "trusted": true
      },
      "outputs": [],
      "execution_count": 10
    },
    {
      "cell_type": "code",
      "source": "Задача 1. Когда используется критерий Стьюдента, а когда Z –критерий?",
      "metadata": {
        "trusted": true
      },
      "outputs": [],
      "execution_count": null
    },
    {
      "cell_type": "code",
      "source": "Критерий Стьюдента и Z-критерий являются статистическими методами, которые используются для проверки гипотез о среднем значении в выборке. \nОднако, критерий Стьюдента применяется, когда мы имеем малые выборки (обычно менее 30 наблюдений) и не знаем дисперсию генеральной совокупности. \nВ таких случаях мы используем критерий Стьюдента со степенью свободы, основанной на количестве наблюдений в выборке.\n\nZ-критерий, с другой стороны, используется, когда мы имеем большие выборки (обычно свыше 30 наблюдений) и знаем дисперсию генеральной совокупности. \nВ этом случае мы можем использовать стандартное нормальное распределение (Z-распределение) для проверки гипотезы о среднем значении.",
      "metadata": {
        "trusted": true
      },
      "outputs": [],
      "execution_count": null
    },
    {
      "cell_type": "code",
      "source": "Задача 2. Проведите тест гипотезы. Утверждается, что шарики для подшипников, изготовленные\nавтоматическим станком, имеют средний диаметр 17 мм.\nИспользуя односторонний критерий с α=0,05, проверить эту гипотезу, если в выборке из\nn=100 шариков средний диаметр\nоказался равным 17.5 мм, а дисперсия генеральной совокупности известна и равна 4 кв. мм.",
      "metadata": {
        "trusted": true
      },
      "outputs": [],
      "execution_count": null
    },
    {
      "cell_type": "code",
      "source": "import numpy as np\nz_norm = (17.5 - 17)/(np.sqrt(4)/np.sqrt(100))\nz_norm",
      "metadata": {
        "trusted": true
      },
      "outputs": [
        {
          "execution_count": 2,
          "output_type": "execute_result",
          "data": {
            "text/plain": "2.5"
          },
          "metadata": {}
        }
      ],
      "execution_count": 2
    },
    {
      "cell_type": "code",
      "source": "alpha = 0.05\nz_krit = stats.norm.ppf(1-alpha)\nz_krit",
      "metadata": {
        "trusted": true
      },
      "outputs": [
        {
          "execution_count": 11,
          "output_type": "execute_result",
          "data": {
            "text/plain": "1.6448536269514722"
          },
          "metadata": {}
        }
      ],
      "execution_count": 11
    },
    {
      "cell_type": "code",
      "source": "Н0 - нуливая гипотеза отвергаеться с вероятностью ошибки альфа = 0,05. я имею достаточные доказательства для того, чтобы утверждать, \nчто шарики для подшипников, изготовленные автоматическим станком, имеют средний диаметр, больший чем 17 мм.",
      "metadata": {
        "trusted": true
      },
      "outputs": [],
      "execution_count": null
    },
    {
      "cell_type": "code",
      "source": "Задача 3. Проведите тест гипотезы. Продавец утверждает, что средний вес пачки печенья\nсоставляет 200 г.\nИз партии извлечена выборка из 10 пачек. Вес каждой пачки составляет:\n202, 203, 199, 197, 195, 201, 200, 204, 194, 190.\nИзвестно, что их веса распределены нормально.\nВерно ли утверждение продавца, если учитывать, что уровень значимости 1%? (Провести двусторонний тест.)",
      "metadata": {
        "trusted": true
      },
      "outputs": [],
      "execution_count": null
    },
    {
      "cell_type": "code",
      "source": "array = [202, 203, 199, 197, 195, 201, 200, 204, 194, 190]\ny_mean = np.mean(array)\n\ny_v = np.var(array, ddof=1)\nt_norm = (y_mean - 200) / (np.sqrt(y_v / 10))\nt1 = stats.t.ppf(0.01,df=(10-1))\nt_norm,y_v,t1",
      "metadata": {
        "trusted": true
      },
      "outputs": [
        {
          "execution_count": 11,
          "output_type": "execute_result",
          "data": {
            "text/plain": "(-1.0651074037450896, 19.833333333333332, -2.8214379233005498)"
          },
          "metadata": {}
        }
      ],
      "execution_count": 11
    },
    {
      "cell_type": "code",
      "source": "Так как значение t_norm (-1.065) не превышает критического значения -2.821, мы не можем отклонить нулевую гипотезу о том,\nчто средний вес пачки печенья составляет 200 грамм.",
      "metadata": {
        "trusted": true
      },
      "outputs": [],
      "execution_count": null
    },
    {
      "cell_type": "code",
      "source": "Задача 4. Есть ли статистически значимые различия в среднем росте матерей и\nдочерей?\nРост матерей 172, 177, 158, 170, 178,175, 164, 160, 169, 165\nРост взрослых дочерей: 173, 175, 162, 174, 175, 168, 155, 170, 160, 163",
      "metadata": {
        "trusted": true
      },
      "outputs": [],
      "execution_count": null
    },
    {
      "cell_type": "code",
      "source": "x = [172, 177, 158, 170, 178,175, 164, 160, 169, 165]\ny = [173, 175, 162, 174, 175, 168, 155, 170, 160, 163]\nstats.ttest_ind(x,y)",
      "metadata": {
        "trusted": true
      },
      "outputs": [
        {
          "execution_count": 12,
          "output_type": "execute_result",
          "data": {
            "text/plain": "TtestResult(statistic=0.4138411497680053, pvalue=0.68387966499013, df=18.0)"
          },
          "metadata": {}
        }
      ],
      "execution_count": 12
    },
    {
      "cell_type": "code",
      "source": "pvalue > сигмы(0,05), таким образом нулевая гипонеза не отвергаеться",
      "metadata": {
        "trusted": true
      },
      "outputs": [],
      "execution_count": null
    }
  ]
}