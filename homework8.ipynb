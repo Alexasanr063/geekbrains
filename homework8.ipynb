{
  "metadata": {
    "kernelspec": {
      "name": "python",
      "display_name": "Python (Pyodide)",
      "language": "python"
    },
    "language_info": {
      "codemirror_mode": {
        "name": "python",
        "version": 3
      },
      "file_extension": ".py",
      "mimetype": "text/x-python",
      "name": "python",
      "nbconvert_exporter": "python",
      "pygments_lexer": "ipython3",
      "version": "3.8"
    }
  },
  "nbformat_minor": 4,
  "nbformat": 4,
  "cells": [
    {
      "cell_type": "code",
      "source": "from scipy import stats",
      "metadata": {
        "trusted": true
      },
      "outputs": [],
      "execution_count": 1
    },
    {
      "cell_type": "code",
      "source": "Задача 1. Известно, что генеральная совокупность распределена нормально\nсо средним квадратическим отклонением, равным 16.\nНайти доверительный интервал для оценки математического ожидания с надежностью\n0.95,\nесли выборочная средняя M = 80, а объем выборки n = 256.",
      "metadata": {
        "trusted": true
      },
      "outputs": [],
      "execution_count": null
    },
    {
      "cell_type": "code",
      "source": "ky = 16\nalpha = 0.05\nz_krit = stats.norm.ppf(1-alpha)\nx_sred = 80\nn = 256\nx_sred - z_krit * ky/n**0.5 , x_sred + z_krit * ky/n**0.5 ",
      "metadata": {
        "trusted": true
      },
      "outputs": [
        {
          "execution_count": 6,
          "output_type": "execute_result",
          "data": {
            "text/plain": "(78.35514637304853, 81.64485362695147)"
          },
          "metadata": {}
        }
      ],
      "execution_count": 6
    },
    {
      "cell_type": "code",
      "source": "Задача 2. В результате 10 независимых измерений некоторой величины X, выполненных с\nодинаковой точностью,\nполучены опытные данные:\n6.9, 6.1, 6.2, 6.8, 7.5, 6.3, 6.4, 6.9, 6.7, 6.1\nПредполагая, что результаты измерений подчинены нормальному закону распределения\nвероятностей,\nоценить истинное значение величины X при помощи доверительного интервала,\nпокрывающего это\nзначение с доверительной вероятностью 0,95.",
      "metadata": {
        "trusted": true
      },
      "outputs": [],
      "execution_count": null
    },
    {
      "cell_type": "code",
      "source": "import statistics\nimport numpy as np\nfrom scipy import stats\nalpha = 0.05\narray = [6.9, 6.1, 6.2, 6.8, 7.5, 6.3, 6.4, 6.9, 6.7, 6.1]\ndlina = len(array)\nx_srednia = statistics.mean(array)\nD = np.var(array,ddof = 1)\nt_kriterii = stats.t.ppf(1-alpha/2,dlina-1)\nx_srednia - t_kriterii * (D**0.5) / (dlina ** 0.5),x_srednia + t_kriterii * (D**0.5) / (dlina ** 0.5)",
      "metadata": {
        "trusted": true
      },
      "outputs": [
        {
          "execution_count": 21,
          "output_type": "execute_result",
          "data": {
            "text/plain": "(6.2675158514157125, 6.912484148584287)"
          },
          "metadata": {}
        }
      ],
      "execution_count": 21
    },
    {
      "cell_type": "code",
      "source": "Рост дочерей 175, 167, 154, 174, 178, 148, 160, 167, 169, 170\nРост матерей 178, 165, 165, 173, 168, 155, 160, 164, 178, 175\n\nИспользуя эти данные построить 95% доверительный интервал для разности среднего\nроста родителей и детей.",
      "metadata": {
        "trusted": true
      },
      "outputs": [],
      "execution_count": null
    },
    {
      "cell_type": "code",
      "source": "array1 = [175, 167, 154, 174, 178, 148, 160, 167, 169, 170]\narray2 = [178, 165, 165, 173, 168, 155, 160, 164, 178, 175]\nx1 = statistics.mean(array1)\nx2 = statistics.mean(array2)\nD = 0.5*(np.var(array1,ddof = 1)+np.var(array2,ddof = 1))\nS = 0.5**(D/len(array1)+D/len(array2))\nt_kriterii = stats.t.ppf(1-alpha/2,(len(array1)-1)*2)\nDelta = x2 - x1\nDelta1 = Delta + t_kriterii * S\nDelta2 = Delta - t_kriterii * S\n\nDelta2,Delta1",
      "metadata": {
        "trusted": true
      },
      "outputs": [
        {
          "execution_count": 37,
          "output_type": "execute_result",
          "data": {
            "text/plain": "(1.8999408656488346, 1.9000591343511768)"
          },
          "metadata": {}
        }
      ],
      "execution_count": 37
    },
    {
      "cell_type": "code",
      "source": "",
      "metadata": {
        "trusted": true
      },
      "outputs": [],
      "execution_count": null
    }
  ]
}