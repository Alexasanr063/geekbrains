{
  "metadata": {
    "kernelspec": {
      "name": "python",
      "display_name": "Python (Pyodide)",
      "language": "python"
    },
    "language_info": {
      "codemirror_mode": {
        "name": "python",
        "version": 3
      },
      "file_extension": ".py",
      "mimetype": "text/x-python",
      "name": "python",
      "nbconvert_exporter": "python",
      "pygments_lexer": "ipython3",
      "version": "3.8"
    }
  },
  "nbformat_minor": 4,
  "nbformat": 4,
  "cells": [
    {
      "cell_type": "code",
      "source": "Задача 1. Даны две независимые выборки. Не соблюдается условие нормальности\nx1 380,420, 290\ny1 140,360,200,900\nСделайте вывод по результатам, полученным с помощью функции, имеются ли статистические различия между группами?",
      "metadata": {
        "trusted": true
      },
      "outputs": [],
      "execution_count": null
    },
    {
      "cell_type": "code",
      "source": "import scipy.stats as stats\nx = [380,420, 290]\ny = [140,360,200,900]\nalpa = 0.05\nstats.mannwhitneyu (x, y)",
      "metadata": {
        "trusted": true
      },
      "outputs": [
        {
          "execution_count": 1,
          "output_type": "execute_result",
          "data": {
            "text/plain": "MannwhitneyuResult(statistic=8.0, pvalue=0.6285714285714286)"
          },
          "metadata": {}
        }
      ],
      "execution_count": 1
    },
    {
      "cell_type": "code",
      "source": "pvalue > alpa значит нулевая гипотеза не отклоняеться. Статистическихх различий нет",
      "metadata": {
        "trusted": true
      },
      "outputs": [],
      "execution_count": null
    },
    {
      "cell_type": "code",
      "source": "Задача 2. Исследовалось влияние препарата на уровень давления пациентов. Сначала\nизмерялось давление до приема препарата, потом через 10 минут и через 30 минут. Есть\nли статистически значимые различия между измерениями давления? В выборках не соблюдается условие нормальности.\n1е измерение до приема препарата: 150, 160, 165, 145, 155\n2е измерение через 10 минут: 140, 155, 150, 130, 135\n3е измерение через 30 минут: 130, 130, 120, 130, 125",
      "metadata": {
        "trusted": true
      },
      "outputs": [],
      "execution_count": null
    },
    {
      "cell_type": "code",
      "source": "group1 = [150, 160, 165, 145, 155]\ngroup2 = [140, 155, 150, 130, 135]\ngroup3 = [130, 130, 120, 130, 125]\nalpa = 0.05\nstats. friedmanchisquare (group1, group2, group3)",
      "metadata": {
        "trusted": true
      },
      "outputs": [
        {
          "execution_count": 2,
          "output_type": "execute_result",
          "data": {
            "text/plain": "FriedmanchisquareResult(statistic=9.578947368421062, pvalue=0.00831683351100441)"
          },
          "metadata": {}
        }
      ],
      "execution_count": 2
    },
    {
      "cell_type": "code",
      "source": "alpa > pvalue , значит нулевая гипотеза отвергаеться. Статистически значимые различия между измерениями давления есть.",
      "metadata": {
        "trusted": true
      },
      "outputs": [],
      "execution_count": null
    },
    {
      "cell_type": "code",
      "source": "Задача 3. Сравните 1 и 2 е измерения, предполагая, что 3го измерения через 30 минут не было. Есть\nли статистически значимые различия между измерениями давления?",
      "metadata": {
        "trusted": true
      },
      "outputs": [],
      "execution_count": null
    },
    {
      "cell_type": "code",
      "source": "stats.wilcoxon(group1, group2)\nalpa = 0.05",
      "metadata": {
        "trusted": true
      },
      "outputs": [
        {
          "execution_count": 5,
          "output_type": "execute_result",
          "data": {
            "text/plain": "WilcoxonResult(statistic=0.0, pvalue=0.0625)"
          },
          "metadata": {}
        }
      ],
      "execution_count": 5
    },
    {
      "cell_type": "code",
      "source": "pvalue > alpa. значит нулевая гипотеза не отклоняеться. Статистическихх различий нет",
      "metadata": {
        "trusted": true
      },
      "outputs": [],
      "execution_count": null
    },
    {
      "cell_type": "code",
      "source": "Задача 4. Даны 3 группы учеников плавания. Не соблюдается условие нормальности.\nВ 1 группе время на дистанцию 50 м составляют:\n56, 60, 62, 55, 71, 67, 59, 58, 64, 67\nВторая группа : 57, 58, 69, 48, 72, 70, 68, 71, 50, 53\nТретья группа: 57, 67, 49, 48, 47, 55, 66, 51, 54\nЕсть\nли статистически значимые различия между группами?",
      "metadata": {
        "trusted": true
      },
      "outputs": [],
      "execution_count": null
    },
    {
      "cell_type": "code",
      "source": "group1 = [56, 60, 62, 55, 71, 67, 59, 58, 64, 67]\ngroup2 = [57, 58, 69, 48, 72, 70, 68, 71, 50, 53]\ngroup3 = [57, 67, 49, 48, 47, 55, 66, 51, 54]\nalpa = 0.05\nstats.kruskal(group1, group2, group3)",
      "metadata": {
        "trusted": true
      },
      "outputs": [
        {
          "execution_count": 6,
          "output_type": "execute_result",
          "data": {
            "text/plain": "KruskalResult(statistic=5.465564058257224, pvalue=0.0650380998590494)"
          },
          "metadata": {}
        }
      ],
      "execution_count": 6
    },
    {
      "cell_type": "code",
      "source": "pvalue > alpa. значит нулевая гипотеза не отклоняеться. Статистическихх различий нет",
      "metadata": {
        "trusted": true
      },
      "outputs": [],
      "execution_count": null
    },
    {
      "cell_type": "code",
      "source": "Задача 5. Заявляется, что партия изготавливается со средним арифметическим 2,5 см. Проверить\nданную гипотезу, если известно, что размеры изделий подчинены нормальному закону\nраспределения. Объем выборки 10, уровень статистической значимости 5%\n2.51, 2.35, 2.74, 2.56, 2.40, 2.36, 2.65, 2.7, 2.67, 2.34",
      "metadata": {
        "trusted": true
      },
      "outputs": [],
      "execution_count": null
    },
    {
      "cell_type": "code",
      "source": "arrays = [2.51, 2.35, 2.74, 2.56, 2.40, 2.36, 2.65, 2.7, 2.67, 2.34]\ny_mean = np.mean(arrays)\nx =  2,5\nn = 10\nalpha = 0.05\nD = np.var(arrays, ddof=1)\nt_stat = (y_mean - x) / (np.sqrt(D / n))\nt_crit = stats.t.ppf(1 - alpha/2, df=(n-1))\nt_stat,t_crit",
      "metadata": {
        "trusted": true
      },
      "outputs": [],
      "execution_count": null
    },
    {
      "cell_type": "code",
      "source": "Так как |t_norm (0.6940628771696117)| < |t1 (-2.262157162740992)|, значит нулевая гипотеза отвергаеться.",
      "metadata": {
        "trusted": true
      },
      "outputs": [],
      "execution_count": null
    }
  ]
}