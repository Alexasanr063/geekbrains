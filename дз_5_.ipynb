{
  "nbformat": 4,
  "nbformat_minor": 0,
  "metadata": {
    "colab": {
      "provenance": [],
      "authorship_tag": "ABX9TyNKgS8n2ZJueZA9lFo0ArCD",
      "include_colab_link": true
    },
    "kernelspec": {
      "name": "python3",
      "display_name": "Python 3"
    },
    "language_info": {
      "name": "python"
    }
  },
  "cells": [
    {
      "cell_type": "markdown",
      "metadata": {
        "id": "view-in-github",
        "colab_type": "text"
      },
      "source": [
        "<a href=\"https://colab.research.google.com/github/Alexasanr063/geekbrains/blob/main/%D0%B4%D0%B7_5_.ipynb\" target=\"_parent\"><img src=\"https://colab.research.google.com/assets/colab-badge.svg\" alt=\"Open In Colab\"/></a>"
      ]
    },
    {
      "cell_type": "code",
      "execution_count": null,
      "metadata": {
        "colab": {
          "base_uri": "https://localhost:8080/"
        },
        "id": "qBBUNQL3avzk",
        "outputId": "7c49d9a0-f5b4-4327-a15a-8481d5046f96"
      },
      "outputs": [
        {
          "output_type": "stream",
          "name": "stdout",
          "text": [
            "CSV файл успешно создан.\n"
          ]
        }
      ],
      "source": [
        "import csv\n",
        "\n",
        "data = [\n",
        "    [\"title\", \"author\", \"genre\", \"sales\", \"year\"],\n",
        "    [\"1984\", \"George Orwell\", \"Science Fiction\", 5000, 1949],\n",
        "    [\"The Lord of the Rings\", \"J.R.R. Tolkien\", \"Fantasy\", 3000, 1954],\n",
        "    [\"To Kill a Mockingbird\", \"Harper Lee\", \"Southern Gothic\", 4000, 1960],\n",
        "    [\"The Catcher in the Rye\", \"J.D. Salinger\", \"Novel\", 2000, 1951],\n",
        "    [\"The Great Gatsby\", \"F. Scott Fitzgerald\", \"Novel\", 4500, 1925],\n",
        "]\n",
        "\n",
        "with open(\"books.csv\", \"w\", newline=\"\", encoding=\"utf-8\") as file:\n",
        "    writer = csv.writer(file)\n",
        "    writer.writerows(data)\n",
        "\n",
        "print(\"CSV файл успешно создан.\")\n"
      ]
    },
    {
      "cell_type": "code",
      "source": [
        "!pip install pyspark\n"
      ],
      "metadata": {
        "colab": {
          "base_uri": "https://localhost:8080/"
        },
        "id": "DkC1H3tcb-dc",
        "outputId": "15ea2b54-cdf3-4e8d-b148-f94561108021"
      },
      "execution_count": null,
      "outputs": [
        {
          "output_type": "stream",
          "name": "stdout",
          "text": [
            "Collecting pyspark\n",
            "  Downloading pyspark-3.5.2.tar.gz (317.3 MB)\n",
            "\u001b[2K     \u001b[90m━━━━━━━━━━━━━━━━━━━━━━━━━━━━━━━━━━━━━━━━\u001b[0m \u001b[32m317.3/317.3 MB\u001b[0m \u001b[31m4.6 MB/s\u001b[0m eta \u001b[36m0:00:00\u001b[0m\n",
            "\u001b[?25h  Preparing metadata (setup.py) ... \u001b[?25l\u001b[?25hdone\n",
            "Requirement already satisfied: py4j==0.10.9.7 in /usr/local/lib/python3.10/dist-packages (from pyspark) (0.10.9.7)\n",
            "Building wheels for collected packages: pyspark\n",
            "  Building wheel for pyspark (setup.py) ... \u001b[?25l\u001b[?25hdone\n",
            "  Created wheel for pyspark: filename=pyspark-3.5.2-py2.py3-none-any.whl size=317812365 sha256=a58c8fed8e6a6f8d86076604859f6cc81e58395a2350611f310d2154b9cddc06\n",
            "  Stored in directory: /root/.cache/pip/wheels/34/34/bd/03944534c44b677cd5859f248090daa9fb27b3c8f8e5f49574\n",
            "Successfully built pyspark\n",
            "Installing collected packages: pyspark\n",
            "Successfully installed pyspark-3.5.2\n"
          ]
        }
      ]
    },
    {
      "cell_type": "code",
      "source": [
        "from pyspark.sql import SparkSession\n",
        "from pyspark.sql.functions import sum, col\n",
        "\n",
        "# Создаем SparkSession\n",
        "spark = SparkSession.builder \\\n",
        "    .appName(\"CSV Reader\") \\\n",
        "    .getOrCreate()\n",
        "\n",
        "# Прочитаем CSV файл\n",
        "df = spark.read.csv(\"books.csv\", header=True, inferSchema=True)\n",
        "\n",
        "# Покажим данные\n",
        "df.show()\n",
        "\n",
        "\n"
      ],
      "metadata": {
        "colab": {
          "base_uri": "https://localhost:8080/"
        },
        "id": "KeuhuFKEbt_6",
        "outputId": "5e362e5f-74c9-4b3f-83d9-3e5ddcf5436e"
      },
      "execution_count": null,
      "outputs": [
        {
          "output_type": "stream",
          "name": "stdout",
          "text": [
            "+--------------------+-------------------+---------------+-----+----+\n",
            "|               title|             author|          genre|sales|year|\n",
            "+--------------------+-------------------+---------------+-----+----+\n",
            "|                1984|      George Orwell|Science Fiction| 5000|1949|\n",
            "|The Lord of the R...|     J.R.R. Tolkien|        Fantasy| 3000|1954|\n",
            "|To Kill a Mocking...|         Harper Lee|Southern Gothic| 4000|1960|\n",
            "|The Catcher in th...|      J.D. Salinger|          Novel| 2000|1951|\n",
            "|    The Great Gatsby|F. Scott Fitzgerald|          Novel| 4500|1925|\n",
            "+--------------------+-------------------+---------------+-----+----+\n",
            "\n"
          ]
        }
      ]
    },
    {
      "cell_type": "code",
      "source": [
        "# Фильтруем данные\n",
        "filtered_df = df.filter(df['sales'] > 3000)\n",
        "\n",
        "# Показываем отфильтрованные данные\n",
        "filtered_df.show()"
      ],
      "metadata": {
        "colab": {
          "base_uri": "https://localhost:8080/"
        },
        "id": "p3n-WG7zeLXs",
        "outputId": "98a70187-9dac-4eaa-f12a-7eeeab1bc5c1"
      },
      "execution_count": null,
      "outputs": [
        {
          "output_type": "stream",
          "name": "stdout",
          "text": [
            "+--------------------+-------------------+---------------+-----+----+\n",
            "|               title|             author|          genre|sales|year|\n",
            "+--------------------+-------------------+---------------+-----+----+\n",
            "|                1984|      George Orwell|Science Fiction| 5000|1949|\n",
            "|To Kill a Mocking...|         Harper Lee|Southern Gothic| 4000|1960|\n",
            "|    The Great Gatsby|F. Scott Fitzgerald|          Novel| 4500|1925|\n",
            "+--------------------+-------------------+---------------+-----+----+\n",
            "\n"
          ]
        }
      ]
    },
    {
      "cell_type": "code",
      "source": [
        "# Преобразовываем столбец 'sales' в числовой тип\n",
        "df = df.withColumn(\"sales\", col(\"sales\").cast(\"integer\"))\n",
        "# Сгруппируем данные по жанру и вычислим общий объем продаж\n",
        "sales_by_genre = df.groupBy(\"genre\").agg(sum(\"sales\").alias(\"total_sales\"))\n",
        "\n",
        "# Показжим результаты\n",
        "sales_by_genre.show()"
      ],
      "metadata": {
        "colab": {
          "base_uri": "https://localhost:8080/"
        },
        "id": "5zByuvrFeobF",
        "outputId": "a28540b0-4af3-4b82-fa14-b50884eed0e8"
      },
      "execution_count": null,
      "outputs": [
        {
          "output_type": "stream",
          "name": "stdout",
          "text": [
            "+---------------+-----------+\n",
            "|          genre|total_sales|\n",
            "+---------------+-----------+\n",
            "|Southern Gothic|       4000|\n",
            "|          Novel|       6500|\n",
            "|        Fantasy|       3000|\n",
            "|Science Fiction|       5000|\n",
            "+---------------+-----------+\n",
            "\n"
          ]
        }
      ]
    },
    {
      "cell_type": "code",
      "source": [
        "# Отсортируем данные по общему объему продаж в порядке убывания\n",
        "sorted_sales_by_genre = sales_by_genre.orderBy(col(\"total_sales\").desc())\n",
        "\n",
        "# Покажим результаты\n",
        "sorted_sales_by_genre.show()"
      ],
      "metadata": {
        "colab": {
          "base_uri": "https://localhost:8080/"
        },
        "id": "qE1aSRxUfzcu",
        "outputId": "421c7eab-5717-4bbb-ed4f-c87a1e9d49b5"
      },
      "execution_count": null,
      "outputs": [
        {
          "output_type": "stream",
          "name": "stdout",
          "text": [
            "+---------------+-----------+\n",
            "|          genre|total_sales|\n",
            "+---------------+-----------+\n",
            "|          Novel|       6500|\n",
            "|Science Fiction|       5000|\n",
            "|Southern Gothic|       4000|\n",
            "|        Fantasy|       3000|\n",
            "+---------------+-----------+\n",
            "\n"
          ]
        }
      ]
    }
  ]
}